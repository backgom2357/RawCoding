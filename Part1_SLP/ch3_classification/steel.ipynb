{
 "cells": [
  {
   "cell_type": "code",
   "execution_count": 1,
   "metadata": {},
   "outputs": [],
   "source": [
    "import numpy as np\n",
    "import csv\n",
    "import time\n",
    "\n",
    "np.random.seed(1234)\n",
    "def randomize(): np.random.seed(time.time())"
   ]
  },
  {
   "cell_type": "code",
   "execution_count": 2,
   "metadata": {},
   "outputs": [],
   "source": [
    "# Hyperparameters\n",
    "\n",
    "RND_MEAN = 0\n",
    "RND_STD = 0.0030\n",
    "\n",
    "LEARNING_RATE = 0.001"
   ]
  },
  {
   "cell_type": "code",
   "execution_count": 3,
   "metadata": {},
   "outputs": [],
   "source": [
    "def steel_exec(epoch_count=10, mb_size=10, report=1):\n",
    "    load_steel_dataset()\n",
    "    init_model()\n",
    "    train_and_test(epoch_count, mb_size, report)"
   ]
  },
  {
   "cell_type": "code",
   "execution_count": 4,
   "metadata": {},
   "outputs": [],
   "source": [
    "def load_steel_dataset():\n",
    "    with open('../../DataSets/steel_faults.csv') as csvfile:\n",
    "        csvreader = csv.reader(csvfile)\n",
    "        next(csvreader, None)\n",
    "        rows = []\n",
    "        for row in csvreader:\n",
    "            rows.append(row)\n",
    "            \n",
    "            \n",
    "    global data, input_cnt, output_cnt\n",
    "    input_cnt, output_cnt = 27, 7\n",
    "    data = np.asarray(rows, dtype='float32')"
   ]
  },
  {
   "cell_type": "code",
   "execution_count": 5,
   "metadata": {},
   "outputs": [],
   "source": [
    "def init_model():\n",
    "    global weight, bias, input_cnt, output_cnt\n",
    "    weight = np.random.normal(RND_MEAN, RND_STD, [input_cnt, output_cnt])\n",
    "    bias = np.zeros([output_cnt])"
   ]
  },
  {
   "cell_type": "code",
   "execution_count": 6,
   "metadata": {},
   "outputs": [],
   "source": [
    "def train_and_test(epoch_count, mb_size, report):\n",
    "    step_count = arrange_data(mb_size)\n",
    "    test_x, test_y = get_test_data()\n",
    "    \n",
    "    for epoch in range(epoch_count):\n",
    "        losses, accs = [], []\n",
    "        \n",
    "        for n in range(step_count):\n",
    "            train_x, train_y = get_train_data(mb_size, n)\n",
    "            loss, acc = run_train(train_x, train_y)\n",
    "            losses.append(loss)\n",
    "            accs.append(acc)\n",
    "            \n",
    "        if report > 0 and (epoch+1) % report == 0:\n",
    "            acc = run_test(test_x, test_y)\n",
    "            print('Epoch {}: loss={:5.3f}, accuracy={:5.3f}/{:5.3f}]'.format(epoch+1, np.mean(losses), np.mean(accs), acc))\n",
    "            \n",
    "    final_acc = run_test(test_x, test_y)\n",
    "    print('\\nFinal Test: final accuracy = {:5.3f}'.format(final_acc))"
   ]
  },
  {
   "cell_type": "code",
   "execution_count": 7,
   "metadata": {},
   "outputs": [],
   "source": [
    "def arrange_data(mb_size):\n",
    "    global data, shuffle_map, test_begin_idx\n",
    "    shuffle_map = np.arange(data.shape[0])\n",
    "    np.random.shuffle(shuffle_map)\n",
    "    step_count = int(data.shape[0] * 0.8) // mb_size\n",
    "    test_begin_idx = step_count * mb_size\n",
    "    return step_count\n",
    "\n",
    "def get_test_data():\n",
    "    global data, shuffle_map, test_begin_dix, output_cnt\n",
    "    test_data = data[shuffle_map[test_begin_idx:]]\n",
    "    return test_data[:, :-output_cnt], test_data[:, -output_cnt:]\n",
    "\n",
    "def get_train_data(mb_size, nth):\n",
    "    global data, shuffle_map, test_begin_idx, output_cnt\n",
    "    if nth == 0:\n",
    "        np.random.shuffle(shuffle_map[:test_begin_idx])\n",
    "    train_data = data[shuffle_map[mb_size*nth:mb_size*(nth+1)]]\n",
    "    return train_data[:, :-output_cnt], train_data[:, -output_cnt:]"
   ]
  },
  {
   "cell_type": "code",
   "execution_count": 8,
   "metadata": {},
   "outputs": [],
   "source": [
    "def run_train(x,y):\n",
    "    output, aux_nn = forward_neuralnet(x)\n",
    "    loss, aux_pp = forward_postproc(output, y)\n",
    "    accuracy = eval_accuracy(output, y)\n",
    "    \n",
    "    G_loss = 1.0\n",
    "    G_output = backprop_postproc(G_loss, aux_pp)\n",
    "    backprop_neuralnet(G_output, aux_nn)\n",
    "    \n",
    "    return loss, accuracy\n",
    "\n",
    "def run_test(x,y):\n",
    "    output, _ = forward_neuralnet(x)\n",
    "    accuracy = eval_accuracy(output, y)\n",
    "    return accuracy"
   ]
  },
  {
   "cell_type": "code",
   "execution_count": 9,
   "metadata": {},
   "outputs": [],
   "source": [
    "def forward_neuralnet(x):\n",
    "    global weight, bias\n",
    "    output = np.matmul(x, weight) + bias\n",
    "    return output, x\n",
    "\n",
    "def backprop_neuralnet(G_output, x):\n",
    "    global weight, bias\n",
    "    g_output_w = x.transpose()\n",
    "    \n",
    "    G_w = np.matmul(g_output_w, G_output)\n",
    "    G_b = np.sum(G_output, axis=0)\n",
    "    \n",
    "    weight -= LEARNING_RATE * G_w\n",
    "    bias -= LEARNING_RATE * G_b"
   ]
  },
  {
   "cell_type": "code",
   "execution_count": 10,
   "metadata": {},
   "outputs": [],
   "source": [
    "def forward_postproc(output, y):\n",
    "    entropy = softmax_cross_entropy_with_logits(y, output)\n",
    "    loss = np.mean(entropy)\n",
    "    return loss, [y, output, entropy]\n",
    "\n",
    "def backprop_postproc(G_loss, aux):\n",
    "    y, output, entropy = aux\n",
    "    \n",
    "    g_loss_entropy = 1.0 / np.prod(entropy) # d L/d entropy의 기울기\n",
    "    g_entropy_output = softmax_cross_entropy_with_logits_derv(y, output)\n",
    "    \n",
    "    G_entropy = g_loss_entropy * G_loss\n",
    "    G_output = g_entropy_output * G_entropy\n",
    "    \n",
    "    return G_output"
   ]
  },
  {
   "cell_type": "code",
   "execution_count": 11,
   "metadata": {},
   "outputs": [],
   "source": [
    "def eval_accuracy(output, y):\n",
    "    estimate = np.argmax(output, axis=1)\n",
    "    answer = np.argmax(y, axis=1)\n",
    "    correct = np.equal(estimate, answer)\n",
    "    \n",
    "    return np.mean(correct)"
   ]
  },
  {
   "cell_type": "code",
   "execution_count": 12,
   "metadata": {},
   "outputs": [],
   "source": [
    "def softmax(x):\n",
    "    max_elem = np.max(x, axis=1) # 최대항 감산을 위한 최대항 추출\n",
    "    diff = (x.transpose() - max_elem).transpose() # 최대항 감산\n",
    "    exp = np.exp(diff)\n",
    "    sum_exp = np.sum(exp, axis=1)\n",
    "    probs = (exp.transpose() / sum_exp).transpose()\n",
    "    return probs\n",
    "\n",
    "def softmax_derv(x, y): # 안쓰임\n",
    "    mb_size, nom_size = x.shape # mb: minbatch\n",
    "    derv = np.ndarray([mb_size, nom_size, nom_size])\n",
    "    for n in range(mb_size):\n",
    "        for i in range(nom_size):\n",
    "            for j in range(nom_size):\n",
    "                derv[n,i,j] = -y[n,i] * y[n,j]\n",
    "            derv[n, i, i] += y[n, i]\n",
    "    return derve\n",
    "\n",
    "def softmax_cross_entropy_with_logits(labels, logits):\n",
    "    probs = softmax(logits)\n",
    "    return -np.sum(labels * np.log(probs+1.0e-10), axis=1) # 1.0e-10 : log 폭주 방지용\n",
    "\n",
    "def softmax_cross_entropy_with_logits_derv(labels, logits):\n",
    "    return softmax(logits) - labels"
   ]
  },
  {
   "cell_type": "code",
   "execution_count": 13,
   "metadata": {},
   "outputs": [
    {
     "name": "stdout",
     "output_type": "stream",
     "text": [
      "Epoch 1: loss=20.337, accuracy=0.117/0.136]\n",
      "Epoch 2: loss=20.278, accuracy=0.119/0.136]\n",
      "Epoch 3: loss=20.278, accuracy=0.119/0.136]\n",
      "Epoch 4: loss=18.406, accuracy=0.201/0.207]\n",
      "Epoch 5: loss=18.257, accuracy=0.207/0.207]\n",
      "Epoch 6: loss=18.257, accuracy=0.207/0.207]\n",
      "Epoch 7: loss=18.257, accuracy=0.207/0.207]\n",
      "Epoch 8: loss=18.257, accuracy=0.207/0.207]\n",
      "Epoch 9: loss=18.257, accuracy=0.207/0.207]\n",
      "Epoch 10: loss=18.257, accuracy=0.207/0.207]\n",
      "\n",
      "Final Test: final accuracy = 0.207\n"
     ]
    }
   ],
   "source": [
    "steel_exec()"
   ]
  },
  {
   "cell_type": "code",
   "execution_count": 14,
   "metadata": {},
   "outputs": [
    {
     "name": "stdout",
     "output_type": "stream",
     "text": [
      "[[ 4.56774713e+54 -7.68343676e+65  5.07646040e+54  5.87332594e+54\n",
      "  -5.04583906e+65  1.27292758e+66  4.97436200e+55]\n",
      " [ 4.41477741e+54 -8.56809685e+65  1.24937133e+55  5.90534286e+54\n",
      "  -5.09498685e+65  1.36630837e+66  5.22302674e+55]\n",
      " [ 4.66394730e+57 -1.99026159e+69  1.00256443e+59  5.25177082e+57\n",
      "  -1.78738855e+69  3.77765015e+69  9.73777733e+58]\n",
      " [ 4.66390105e+57 -1.99046392e+69  1.00261071e+59  5.25179928e+57\n",
      "  -1.78740576e+69  3.77786967e+69  9.73789722e+58]\n",
      " [-2.36569458e+54 -6.44245523e+66  3.73182095e+56  8.53784510e+52\n",
      "  -6.71686369e+64  6.50962387e+66 -7.21447911e+54]\n",
      " [-4.66024045e+53 -5.28338668e+65  1.86125023e+55  3.91317901e+52\n",
      "  -1.14678161e+64  5.39806484e+65  1.77516029e+54]\n",
      " [-9.96081929e+52 -3.80076189e+65  1.06438469e+55  2.84594837e+52\n",
      "  -1.72017241e+64  3.97277913e+65  1.16683883e+54]\n",
      " [-1.63033710e+56 -7.76865901e+68  4.13246004e+58  1.00995593e+55\n",
      "  -7.85053922e+66  7.84716440e+68 -1.07593213e+57]\n",
      " [ 5.54959932e+53 -1.55634646e+65  2.41905611e+54  7.47061447e+53\n",
      "  -8.92851393e+64  2.44919786e+65  5.92668748e+54]\n",
      " [ 6.33223512e+53 -2.17888505e+65  6.73066789e+54  9.49835268e+53\n",
      "  -1.03210344e+65  3.21098850e+65  8.19633130e+54]\n",
      " [ 9.42720397e+54 -2.22147980e+66  6.86834064e+55  9.66910958e+54\n",
      "  -1.11893120e+66  3.34041099e+66  8.92631706e+55]\n",
      " [-7.11487092e+51 -1.63825944e+63 -1.34194810e+29 -2.91400352e+17\n",
      "   3.55743546e+51  1.63825944e+63  3.91317901e+52]\n",
      " [ 1.06723064e+52 -4.63492415e+40  4.98040964e+52  7.11487092e+51\n",
      "  -8.19129718e+62  8.19129718e+62  2.13446128e+52]\n",
      " [-5.69189674e+53 -1.14678161e+65  1.99216386e+54  3.55743546e+53\n",
      "  -8.19129718e+64  1.96591132e+65  6.34290743e+54]\n",
      " [ 7.70184803e+50 -1.13326595e+63  5.24543856e+51  5.53892716e+51\n",
      "  -7.38773087e+62  1.87203904e+63  1.69743033e+52]\n",
      " [-1.96868498e+51 -9.84675866e+62  2.27458865e+52  2.31233307e+51\n",
      "  -2.86040106e+62  1.27071597e+63  2.66757856e+52]\n",
      " [-1.00533142e+51 -8.75322016e+62  3.17476215e+52  6.40338387e+51\n",
      "  -2.34025355e+62  1.10934737e+63  2.86846693e+52]\n",
      " [-1.30557878e+50 -6.52846390e+61  5.38417856e+51  2.38348177e+49\n",
      "  -3.60417074e+60  6.88888098e+61  1.71824129e+51]\n",
      " [ 5.07361451e+51 -6.18279105e+62  2.67597410e+52  5.92917770e+51\n",
      "  -3.51079008e+62  9.69358113e+62  4.20407048e+52]\n",
      " [ 5.69296380e+51 -1.04250640e+63  2.50240681e+52  7.11487092e+51\n",
      "  -8.19129718e+62  1.86163612e+63  4.60431757e+52]\n",
      " [ 1.06723064e+52 -8.19129718e+62  1.06723064e+52  1.77871773e+51\n",
      "  -8.19129718e+62  1.63825944e+63  2.84594837e+52]\n",
      " [ 3.79863017e+51 -5.19000587e+63  1.86178032e+53  7.67836891e+51\n",
      "  -1.56765046e+63  6.75765632e+63  1.35973721e+53]\n",
      " [-1.43008867e+51 -2.78561441e+63  1.05469779e+53  4.62857933e+51\n",
      "  -6.37446723e+62  3.42306113e+63  7.86840694e+52]\n",
      " [ 3.65811063e+51 -3.06698539e+63  9.40703323e+52  4.28386389e+51\n",
      "  -1.08305326e+63  4.15003865e+63  7.34919921e+52]\n",
      " [ 8.52788424e+51 -3.29290155e+62 -1.68654458e+52 -7.11487103e+50\n",
      "  -5.85104339e+62  9.14394494e+62 -1.97686687e+51]\n",
      " [ 8.59476418e+50  1.80372366e+62 -6.00886423e+51 -5.39662944e+50\n",
      "   7.11823752e+61 -2.51554741e+62 -8.04585177e+51]\n",
      " [-1.25008267e+51 -1.61753543e+63  4.71118293e+52  9.29913627e+50\n",
      "  -1.93232700e+62  1.81076813e+63  3.14285191e+52]]\n",
      "[ 3.55743546e+51 -1.63825944e+63  4.98040964e+52  7.11487092e+51\n",
      " -8.19129718e+62  2.45738915e+63  6.04764028e+52]\n"
     ]
    }
   ],
   "source": [
    "print(weight)\n",
    "print(bias)"
   ]
  },
  {
   "cell_type": "code",
   "execution_count": 16,
   "metadata": {},
   "outputs": [
    {
     "name": "stdout",
     "output_type": "stream",
     "text": [
      "Epoch 1: loss=18.396, accuracy=0.199/0.199]\n",
      "Epoch 2: loss=18.911, accuracy=0.179/0.199]\n",
      "Epoch 3: loss=18.718, accuracy=0.187/0.182]\n",
      "Epoch 4: loss=18.272, accuracy=0.206/0.182]\n",
      "Epoch 5: loss=20.188, accuracy=0.123/0.095]\n",
      "Epoch 6: loss=20.619, accuracy=0.105/0.095]\n",
      "Epoch 7: loss=20.619, accuracy=0.105/0.095]\n",
      "Epoch 8: loss=20.619, accuracy=0.105/0.095]\n",
      "Epoch 9: loss=20.619, accuracy=0.105/0.095]\n",
      "Epoch 10: loss=20.619, accuracy=0.105/0.095]\n",
      "\n",
      "Final Test: final accuracy = 0.095\n"
     ]
    }
   ],
   "source": [
    "LEARNING_RATE = 0.001\n",
    "steel_exec()"
   ]
  }
 ],
 "metadata": {
  "kernelspec": {
   "display_name": "Python 3",
   "language": "python",
   "name": "python3"
  },
  "language_info": {
   "codemirror_mode": {
    "name": "ipython",
    "version": 3
   },
   "file_extension": ".py",
   "mimetype": "text/x-python",
   "name": "python",
   "nbconvert_exporter": "python",
   "pygments_lexer": "ipython3",
   "version": "3.6.7"
  }
 },
 "nbformat": 4,
 "nbformat_minor": 2
}
