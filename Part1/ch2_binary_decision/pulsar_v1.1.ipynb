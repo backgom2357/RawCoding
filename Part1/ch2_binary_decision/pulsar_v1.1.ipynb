{
 "cells": [
  {
   "cell_type": "code",
   "execution_count": 1,
   "metadata": {},
   "outputs": [
    {
     "name": "stdout",
     "output_type": "stream",
     "text": [
      "Epoch 1: loss=0.154, accuracy=0.959/0.972]\n",
      "Epoch 2: loss=0.131, accuracy=0.966/0.972]\n",
      "Epoch 3: loss=0.136, accuracy=0.967/0.970]\n",
      "Epoch 4: loss=0.133, accuracy=0.968/0.970]\n",
      "Epoch 5: loss=0.121, accuracy=0.968/0.969]\n",
      "Epoch 6: loss=0.145, accuracy=0.968/0.974]\n",
      "Epoch 7: loss=0.122, accuracy=0.970/0.975]\n",
      "Epoch 8: loss=0.127, accuracy=0.970/0.976]\n",
      "Epoch 9: loss=0.125, accuracy=0.970/0.976]\n",
      "Epoch 10: loss=0.134, accuracy=0.968/0.976]\n",
      "\n",
      "Final Test: final accuracy = 0.976\n"
     ]
    }
   ],
   "source": [
    "%run ./pulsar_v1.0.ipynb"
   ]
  },
  {
   "cell_type": "code",
   "execution_count": 2,
   "metadata": {},
   "outputs": [],
   "source": [
    "def pulsar_exec(epoch_count=10, mb_size=10, report=1, adjust_ratio=False):\n",
    "    load_pulsar_dataset(adjust_ratio)\n",
    "    init_model()\n",
    "    train_and_test(epoch_count, mb_size, report)"
   ]
  },
  {
   "cell_type": "code",
   "execution_count": 3,
   "metadata": {},
   "outputs": [],
   "source": [
    "def load_pulsar_dataset(adjust_ratio):\n",
    "    pulsars, stars = [], []\n",
    "    with open('../../DataSets/pulsar_stars.csv') as csvfile:\n",
    "        csvreader = csv.reader(csvfile)\n",
    "        next(csvreader, None)\n",
    "        for row in csvreader:\n",
    "            if row[8] == '1': pulsars.append(row)\n",
    "            else: stars.append(row)\n",
    "\n",
    "    global data, input_cnt, output_cnt\n",
    "    input_cnt, output_cnt = 8, 1\n",
    "\n",
    "    star_cnt, pulsar_cnt = len(stars), len(pulsars)\n",
    "\n",
    "    if adjust_ratio:\n",
    "        data = np.zeros([2*star_cnt, 9])\n",
    "        data[0:star_cnt, :] = np.asarray(stars, dtype='float32')\n",
    "        for n in range(star_cnt):\n",
    "            data[star_cnt + n] = np.asarray(pulsars[n % pulsar_cnt], dtype='float32')\n",
    "    else:\n",
    "        data = np.zeros([star_cnt + pulsar_cnt, 9])\n",
    "        data[0:star_cnt, :] = np.asarray(stars, dtype='float32')\n",
    "        data[star_cnt:, :] = np.asarray(pulsars, dtype='float32')"
   ]
  },
  {
   "cell_type": "code",
   "execution_count": 4,
   "outputs": [],
   "source": [
    "def eval_accuracy(output, y):\n",
    "    est_yes = np.greater(output, 0)\n",
    "    ans_yes = np.greater(y, 0.5)\n",
    "    est_no = np.logical_not(est_yes)\n",
    "    ans_no = np.logical_not(ans_yes)\n",
    "\n",
    "    tp = np.sum(np.logical_and(est_yes, ans_yes))\n",
    "    fp = np.sum(np.logical_and(est_yes, ans_no))\n",
    "    fn = np.sum(np.logical_and(est_no, ans_yes))\n",
    "    tn = np.sum(np.logical_and(est_no, ans_no))\n",
    "\n",
    "    accuracy = safe_div(tp+tn, tp+tn+fp+fn)\n",
    "    precision = safe_div(tp, tp+fp)\n",
    "    recall = safe_div(tp, tp+tn)\n",
    "    f1 = 2 * safe_div(recall*precision, recall+precision)\n",
    "\n",
    "    return [accuracy, precision, recall, f1]\n",
    "\n",
    "def safe_div(p, q):\n",
    "    p, q = float(p), float(q)\n",
    "    if np.abs(q) < 1.0e-20: return np.sign(p)\n",
    "    return p / q\n"
   ],
   "metadata": {
    "collapsed": false,
    "pycharm": {
     "name": "#%%\n"
    }
   }
  },
  {
   "cell_type": "code",
   "execution_count": 5,
   "outputs": [],
   "source": [
    "def train_and_test(epoch_count, mb_size, report):\n",
    "    step_count = arrange_data(mb_size)\n",
    "    test_x, test_y = get_test_data()\n",
    "\n",
    "    for epoch in range(epoch_count):\n",
    "        losses = []\n",
    "\n",
    "        for n in range(step_count):\n",
    "            train_x, train_y = get_train_data(mb_size, n)\n",
    "            loss, _ = run_train(train_x, train_y)\n",
    "            losses.append(loss)\n",
    "\n",
    "        if report > 0 and (epoch+1) % report == 0:\n",
    "            acc = run_test(test_x, test_y)\n",
    "            acc_str = ','.join(['%5.3f']*4) % tuple(acc)\n",
    "            print('Epoch {}: loss={:5.3f}, result={}'.format(epoch+1, np.mean(losses), acc_str))\n",
    "\n",
    "    acc = run_test(test_x, test_y)\n",
    "    acc_str = ','.join(['%5.3f']*4) % tuple(acc)\n",
    "    print('\\nFinal Test: final result = {}'.format(acc_str))\n"
   ],
   "metadata": {
    "collapsed": false,
    "pycharm": {
     "name": "#%%\n"
    }
   }
  },
  {
   "cell_type": "code",
   "execution_count": 6,
   "outputs": [
    {
     "name": "stdout",
     "output_type": "stream",
     "text": [
      "Epoch 1: loss=0.405, result=0.923,0.939,0.902,0.920\n",
      "Epoch 2: loss=0.376, result=0.918,0.983,0.848,0.910\n",
      "Epoch 3: loss=0.377, result=0.904,0.879,0.934,0.906\n",
      "Epoch 4: loss=0.364, result=0.915,0.987,0.839,0.907\n",
      "Epoch 5: loss=0.378, result=0.925,0.941,0.905,0.923\n",
      "Epoch 6: loss=0.367, result=0.923,0.982,0.859,0.916\n",
      "Epoch 7: loss=0.369, result=0.917,0.986,0.844,0.909\n",
      "Epoch 8: loss=0.363, result=0.927,0.940,0.910,0.925\n",
      "Epoch 9: loss=0.349, result=0.926,0.981,0.867,0.920\n",
      "Epoch 10: loss=0.378, result=0.915,0.909,0.919,0.914\n",
      "\n",
      "Final Test: final result = 0.915,0.909,0.919,0.914\n"
     ]
    }
   ],
   "source": [
    "pulsar_exec(adjust_ratio=True)\n"
   ],
   "metadata": {
    "collapsed": false,
    "pycharm": {
     "name": "#%%\n"
    }
   }
  }
 ],
 "metadata": {
  "kernelspec": {
   "display_name": "Python 3",
   "language": "python",
   "name": "python3"
  },
  "language_info": {
   "codemirror_mode": {
    "name": "ipython",
    "version": 3
   },
   "file_extension": ".py",
   "mimetype": "text/x-python",
   "name": "python",
   "nbconvert_exporter": "python",
   "pygments_lexer": "ipython3",
   "version": "3.6.7"
  }
 },
 "nbformat": 4,
 "nbformat_minor": 2
}