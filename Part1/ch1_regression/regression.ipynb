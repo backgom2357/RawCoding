{
 "cells": [
  {
   "cell_type": "code",
   "execution_count": 1,
   "metadata": {},
   "outputs": [],
   "source": [
    "import numpy as np\n",
    "import csv\n",
    "import time\n",
    "\n",
    "np.random.seed(1234)\n",
    "def randomize(): np.random.seed(time.time())"
   ]
  },
  {
   "cell_type": "code",
   "execution_count": 30,
   "metadata": {},
   "outputs": [],
   "source": [
    "# Hyperparameters\n",
    "\n",
    "RND_MEAN = 0\n",
    "RND_STD = 0.0030\n",
    "\n",
    "LEARNING_RATE = 0.001"
   ]
  },
  {
   "cell_type": "code",
   "execution_count": 59,
   "metadata": {},
   "outputs": [],
   "source": [
    "def abalone_exec(epoch_count=10, mb_size=10, report=1):\n",
    "    load_abalone_dataset()\n",
    "    init_model()\n",
    "    train_and_test(epoch_count, mb_size, report)"
   ]
  },
  {
   "cell_type": "code",
   "execution_count": 62,
   "metadata": {},
   "outputs": [],
   "source": [
    "def load_abalone_dataset():\n",
    "    with open('./DataSets/abalone.data.csv') as csvfile:\n",
    "        csvreader = csv.reader(csvfile)\n",
    "#         next(csvreader, None)  # ignore header\n",
    "        rows = []\n",
    "        for row in csvreader:\n",
    "            rows.append(row)\n",
    "            \n",
    "            \n",
    "    global data, input_cnt, output_cnt\n",
    "    input_cnt, output_cnt = 10, 1\n",
    "    data = np.zeros([len(rows), input_cnt+output_cnt])\n",
    "    \n",
    "    for n , row in enumerate(rows):\n",
    "        if row[0] == 'I': data[n,0] = 1\n",
    "        if row[0] == 'M': data[n,1] = 1\n",
    "        if row[0] == 'F': data[n,2] = 1\n",
    "        data[n, 3:] = row[1:]"
   ]
  },
  {
   "cell_type": "code",
   "execution_count": 64,
   "metadata": {},
   "outputs": [],
   "source": [
    "def init_model():\n",
    "    global weight, bias, input_cnt, output_cnt\n",
    "    weight = np.random.normal(RND_MEAN, RND_STD, [input_cnt, output_cnt])\n",
    "    bias = np.zeros([output_cnt])"
   ]
  },
  {
   "cell_type": "code",
   "execution_count": 8,
   "metadata": {},
   "outputs": [],
   "source": [
    "def train_and_test(epoch_count, mb_size, report):\n",
    "    step_count = arrange_data(mb_size)\n",
    "    test_x, test_y = get_test_data()\n",
    "    \n",
    "    for epoch in range(epoch_count):\n",
    "        losses, accs = [], []\n",
    "        \n",
    "        for n in range(step_count):\n",
    "            train_x, train_y = get_train_data(mb_size, n)\n",
    "            loss, acc = run_train(train_x, train_y)\n",
    "            losses.append(loss)\n",
    "            accs.append(acc)\n",
    "            \n",
    "        if report > 0 and (epoch+1) % report == 0:\n",
    "            acc = run_test(test_x, test_y)\n",
    "            print('Epoch {}: loss={:5.3f}, accuracy={:5.3f}/{:5.3f}]'.format(epoch+1, np.mean(losses), np.mean(accs), acc))\n",
    "            \n",
    "    final_acc = run_test(test_x, test_y)\n",
    "    print('\\nFinal Test: final accuracy = {:5.3f}'.format(final_acc))"
   ]
  },
  {
   "cell_type": "code",
   "execution_count": 68,
   "metadata": {},
   "outputs": [],
   "source": [
    "def arrange_data(mb_size):\n",
    "    global data, shuffle_map, test_begin_idx\n",
    "    shuffle_map = np.arange(data.shape[0])\n",
    "    np.random.shuffle(shuffle_map)\n",
    "    step_count = int(data.shape[0] * 0.8) // mb_size\n",
    "    test_begin_idx = step_count * mb_size\n",
    "    return step_count\n",
    "\n",
    "def get_test_data():\n",
    "    global data, shuffle_map, test_begin_dix, output_cnt\n",
    "    test_data = data[shuffle_map[test_begin_idx:]]\n",
    "    return test_data[:, :-output_cnt], test_data[:, -output_cnt:]\n",
    "\n",
    "def get_train_data(mb_size, nth):\n",
    "    global data, shuffle_map, test_begin_idx, output_cnt\n",
    "    if nth == 0:\n",
    "        np.random.shuffle(shuffle_map[:test_begin_idx])\n",
    "    train_data = data[shuffle_map[mb_size*nth:mb_size*(nth+1)]]\n",
    "    return train_data[:, :-output_cnt], train_data[:, -output_cnt:]"
   ]
  },
  {
   "cell_type": "code",
   "execution_count": 17,
   "metadata": {},
   "outputs": [],
   "source": [
    "def run_train(x,y):\n",
    "    output, aux_nn = forward_neuralnet(x)\n",
    "    loss, aux_pp = forward_postproc(output, y)\n",
    "    accuracy = eval_accuracy(output, y)\n",
    "    \n",
    "    G_loss = 1.0\n",
    "    G_output = backprop_postproc(G_loss, aux_pp)\n",
    "    backprop_neuralnet(G_output, aux_nn)\n",
    "    \n",
    "    return loss, accuracy\n",
    "\n",
    "def run_test(x,y):\n",
    "    output, _ = forward_neuralnet(x)\n",
    "    accuracy = eval_accuracy(output, y)\n",
    "    return accuracy"
   ]
  },
  {
   "cell_type": "code",
   "execution_count": 48,
   "metadata": {},
   "outputs": [],
   "source": [
    "def forward_neuralnet(x):\n",
    "    global weight, bias\n",
    "    output = np.matmul(x, weight) + bias\n",
    "    return output, x\n",
    "\n",
    "def backprop_neuralnet(G_output, x):\n",
    "    global weight, bias\n",
    "    g_output_w = x.transpose()\n",
    "    \n",
    "    G_w = np.matmul(g_output_w, G_output)\n",
    "    G_b = np.sum(G_output, axis=0)\n",
    "    \n",
    "    weight -= LEARNING_RATE * G_w\n",
    "    bias -= LEARNING_RATE * G_b"
   ]
  },
  {
   "cell_type": "code",
   "execution_count": 54,
   "metadata": {},
   "outputs": [],
   "source": [
    "def forward_postproc(output, y):\n",
    "    diff = output - y\n",
    "    square = np.square(diff)\n",
    "    loss = np.mean(square)\n",
    "    return loss, diff\n",
    "\n",
    "def backprop_postproc(G_loss, diff):\n",
    "    shape = diff.shape\n",
    "    \n",
    "    g_loss_square = np.ones(shape) / np.prod(shape) # square에 대한 L의 기울기\n",
    "    g_square_diff = 2 * diff # diff에 대한 square의 기울기\n",
    "    g_diff_output = 1 # output에 대한 diff의 기울기\n",
    "    \n",
    "    G_square = g_loss_square * G_loss\n",
    "    G_diff = g_square_diff * G_square\n",
    "    G_output = g_diff_output * G_diff\n",
    "    \n",
    "    return G_output"
   ]
  },
  {
   "cell_type": "code",
   "execution_count": 55,
   "metadata": {},
   "outputs": [],
   "source": [
    "def eval_accuracy(output, y):\n",
    "    mdiff = np.mean(np.abs((output-y)/y))\n",
    "    return 1 - mdiff"
   ]
  },
  {
   "cell_type": "code",
   "execution_count": 69,
   "metadata": {},
   "outputs": [
    {
     "name": "stdout",
     "output_type": "stream",
     "text": [
      "Epoch 1: loss=34.200, accuracy=0.560/0.816]\n",
      "Epoch 2: loss=8.418, accuracy=0.818/0.820]\n",
      "Epoch 3: loss=7.735, accuracy=0.810/0.815]\n",
      "Epoch 4: loss=7.623, accuracy=0.808/0.813]\n",
      "Epoch 5: loss=7.542, accuracy=0.807/0.814]\n",
      "Epoch 6: loss=7.472, accuracy=0.808/0.814]\n",
      "Epoch 7: loss=7.412, accuracy=0.808/0.813]\n",
      "Epoch 8: loss=7.360, accuracy=0.807/0.815]\n",
      "Epoch 9: loss=7.314, accuracy=0.808/0.813]\n",
      "Epoch 10: loss=7.271, accuracy=0.806/0.816]\n",
      "\n",
      "Final Test: final accuracy = 0.816\n"
     ]
    }
   ],
   "source": [
    "abalone_exec()"
   ]
  },
  {
   "cell_type": "code",
   "execution_count": 70,
   "metadata": {},
   "outputs": [
    {
     "name": "stdout",
     "output_type": "stream",
     "text": [
      "[[1.01316282]\n",
      " [1.51926124]\n",
      " [1.63476282]\n",
      " [2.03948247]\n",
      " [1.61877545]\n",
      " [0.59738261]\n",
      " [2.35822866]\n",
      " [0.51970025]\n",
      " [0.47095111]\n",
      " [1.02488524]]\n",
      "[4.17532529]\n"
     ]
    }
   ],
   "source": [
    "print(weight)\n",
    "print(bias)"
   ]
  },
  {
   "cell_type": "code",
   "execution_count": 71,
   "metadata": {},
   "outputs": [
    {
     "name": "stdout",
     "output_type": "stream",
     "text": [
      "Epoch 20: loss=5.657, accuracy=0.826/0.812]\n",
      "Epoch 40: loss=5.145, accuracy=0.835/0.834]\n",
      "Epoch 60: loss=4.961, accuracy=0.838/0.836]\n",
      "Epoch 80: loss=4.870, accuracy=0.839/0.822]\n",
      "Epoch 100: loss=4.850, accuracy=0.840/0.836]\n",
      "\n",
      "Final Test: final accuracy = 0.836\n"
     ]
    }
   ],
   "source": [
    "LEARNING_RATE = 0.1\n",
    "abalone_exec(epoch_count=100, mb_size=100, report=20)"
   ]
  }
 ],
 "metadata": {
  "kernelspec": {
   "display_name": "Python 3",
   "language": "python",
   "name": "python3"
  },
  "language_info": {
   "codemirror_mode": {
    "name": "ipython",
    "version": 3
   },
   "file_extension": ".py",
   "mimetype": "text/x-python",
   "name": "python",
   "nbconvert_exporter": "python",
   "pygments_lexer": "ipython3",
   "version": "3.6.6"
  }
 },
 "nbformat": 4,
 "nbformat_minor": 2
}
